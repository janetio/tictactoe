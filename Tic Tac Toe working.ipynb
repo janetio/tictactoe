{
 "cells": [
  {
   "cell_type": "code",
   "execution_count": 1,
   "id": "74a2b8bc",
   "metadata": {},
   "outputs": [],
   "source": [
    "def display_board(lis):\n",
    "    row1=lis[1:4]\n",
    "    row2=lis[4:7]\n",
    "    row3=lis[7:10]\n",
    "    print(row1)\n",
    "    print(row2)\n",
    "    print(row3)"
   ]
  },
  {
   "cell_type": "code",
   "execution_count": 2,
   "id": "00775795",
   "metadata": {},
   "outputs": [],
   "source": [
    "def player_input():\n",
    "\n",
    "    marker=1\n",
    "    while marker not in ['x','o']:\n",
    "        marker=input('Please select either x or o: ')\n",
    "        if marker == 'x':\n",
    "            return ('x','o')\n",
    "        elif marker == 'o':\n",
    "            return ('o','x')"
   ]
  },
  {
   "cell_type": "code",
   "execution_count": 3,
   "id": "49cc246a",
   "metadata": {},
   "outputs": [],
   "source": [
    "def place_marker(lis, marker, position):\n",
    "    \n",
    "    \n",
    "    lis[int(position)] = marker\n",
    "    return lis\n",
    "  "
   ]
  },
  {
   "cell_type": "code",
   "execution_count": 4,
   "id": "7b7277d8",
   "metadata": {},
   "outputs": [],
   "source": [
    "def win_check(lis,marker):\n",
    "    return (lis[1]==marker and lis[2]==marker and lis[3]==marker) or(lis[3]==marker and lis[6]==marker and lis[9]==marker)or(lis[2]==marker and lis[5]==marker and lis[8]==marker)or(lis[1]==marker and lis[4]==marker and lis[7]==marker)or(lis[3]==marker and lis[5]==marker and lis[7]==marker)or(lis[7]==marker and lis[8]==marker and lis[9]==marker)or(lis[4]==marker and lis[5]==marker and lis[6]==marker) or(lis[1]==marker and lis[5]==marker and lis[9]==marker)"
   ]
  },
  {
   "cell_type": "code",
   "execution_count": 5,
   "id": "46877840",
   "metadata": {},
   "outputs": [],
   "source": [
    "import random"
   ]
  },
  {
   "cell_type": "code",
   "execution_count": 6,
   "id": "37ebae5d",
   "metadata": {},
   "outputs": [],
   "source": [
    "def choose_first():\n",
    "    first=random.randint(1,2)\n",
    "    s=f'Player {first} goes first'\n",
    "    print(s)\n",
    "    return (f'Player {first}')"
   ]
  },
  {
   "cell_type": "code",
   "execution_count": 7,
   "id": "71e449c6",
   "metadata": {},
   "outputs": [],
   "source": [
    "def space_check(lis, position):\n",
    "    return lis[int(position)]==''"
   ]
  },
  {
   "cell_type": "code",
   "execution_count": 8,
   "id": "1b867e8a",
   "metadata": {},
   "outputs": [],
   "source": [
    "def full_board_check(lis):\n",
    "    for i in range(1,10):\n",
    "        if space_check(lis, i):\n",
    "            return False\n",
    "\n",
    "            \n",
    "    return True"
   ]
  },
  {
   "cell_type": "code",
   "execution_count": 9,
   "id": "3806eeb2",
   "metadata": {},
   "outputs": [],
   "source": [
    "def player_choice(lis):\n",
    "    position = 0\n",
    "    \n",
    "    while position not in range(1,10) or not space_check(lis, position):\n",
    "        position = input('Choose your next position: (1-9) ')\n",
    "        if position.isdigit()==False:\n",
    "            print('Please enter a number')\n",
    "        if position.isdigit()==True:\n",
    "            if int(position) not in range(1,10):\n",
    "                print('Please enter a number from 1-9')\n",
    "            else:\n",
    "                break\n",
    "        \n",
    "        \n",
    "    return position"
   ]
  },
  {
   "cell_type": "code",
   "execution_count": 10,
   "id": "38be284e",
   "metadata": {},
   "outputs": [],
   "source": [
    "def replay():\n",
    "    \n",
    "    return input('Do you want to play again? Enter Yes or No: ').lower().startswith('y')"
   ]
  },
  {
   "cell_type": "code",
   "execution_count": 16,
   "id": "de659346",
   "metadata": {},
   "outputs": [],
   "source": [
    "def execute_turn(lis, pmarker, player1_turn):\n",
    "    display_board(lis)\n",
    "    position = player_choice(lis)\n",
    "    place_marker(lis, pmarker, position)\n",
    "\n",
    "    if win_check(lis, pmarker):\n",
    "        display_board(lis)\n",
    "        print('Congratulations!',pmarker, 'wins!')\n",
    "        return 'Break'\n",
    "        \n",
    "    else:\n",
    "        if full_board_check(lis):\n",
    "            display_board(lis)\n",
    "            print('Draw!')\n",
    "            return 'Break'\n",
    "            \n",
    "        else:\n",
    "            print('Next players turn')\n",
    "            if player1_turn:\n",
    "                return 'Player 2'\n",
    "\n",
    "            else:\n",
    "                return 'Player 1'"
   ]
  },
  {
   "cell_type": "code",
   "execution_count": null,
   "id": "127ad4e7",
   "metadata": {
    "scrolled": true
   },
   "outputs": [
    {
     "name": "stdout",
     "output_type": "stream",
     "text": [
      "Welcome to Tic Tac Toe!\n",
      "Player 1 goes first\n",
      "Please select either x or o: x\n",
      "['', '', '']\n",
      "['', '', '']\n",
      "['', '', '']\n",
      "Choose your next position: (1-9) 1\n",
      "Next players turn\n",
      "['x', '', '']\n",
      "['', '', '']\n",
      "['', '', '']\n",
      "Choose your next position: (1-9) 2\n",
      "Next players turn\n",
      "['x', 'o', '']\n",
      "['', '', '']\n",
      "['', '', '']\n",
      "Choose your next position: (1-9) 3\n",
      "Next players turn\n",
      "['x', 'o', 'x']\n",
      "['', '', '']\n",
      "['', '', '']\n",
      "Choose your next position: (1-9) 4\n",
      "Next players turn\n",
      "['x', 'o', 'x']\n",
      "['o', '', '']\n",
      "['', '', '']\n",
      "Choose your next position: (1-9) 5\n",
      "Next players turn\n",
      "['x', 'o', 'x']\n",
      "['o', 'x', '']\n",
      "['', '', '']\n",
      "Choose your next position: (1-9) 6\n",
      "Next players turn\n",
      "['x', 'o', 'x']\n",
      "['o', 'x', 'o']\n",
      "['', '', '']\n",
      "Choose your next position: (1-9) 7\n",
      "['x', 'o', 'x']\n",
      "['o', 'x', 'o']\n",
      "['x', '', '']\n",
      "Congratulations! x wins!\n"
     ]
    }
   ],
   "source": [
    "print('Welcome to Tic Tac Toe!')\n",
    "\n",
    "while True:\n",
    "    lis=['X','','','','','','','','','']\n",
    "    turn = choose_first()\n",
    "    p1marker, p2marker = player_input()\n",
    "    while turn !='Break':\n",
    "        if turn =='Player 1':\n",
    "            turn = execute_turn(lis, p1marker, True)\n",
    "        \n",
    "        elif turn == 'Player 2':\n",
    "            turn = execute_turn(lis,p2marker,False)\n",
    "\n",
    "    if not replay():\n",
    "        break"
   ]
  },
  {
   "cell_type": "code",
   "execution_count": null,
   "id": "91924bca",
   "metadata": {},
   "outputs": [],
   "source": []
  }
 ],
 "metadata": {
  "kernelspec": {
   "display_name": "Python 3 (ipykernel)",
   "language": "python",
   "name": "python3"
  },
  "language_info": {
   "codemirror_mode": {
    "name": "ipython",
    "version": 3
   },
   "file_extension": ".py",
   "mimetype": "text/x-python",
   "name": "python",
   "nbconvert_exporter": "python",
   "pygments_lexer": "ipython3",
   "version": "3.9.7"
  }
 },
 "nbformat": 4,
 "nbformat_minor": 5
}
